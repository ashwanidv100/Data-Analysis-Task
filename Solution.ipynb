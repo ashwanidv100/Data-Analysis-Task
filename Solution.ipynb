{
  "nbformat": 4,
  "nbformat_minor": 0,
  "metadata": {
    "colab": {
      "name": "Solution.ipynb",
      "provenance": [],
      "collapsed_sections": [],
      "include_colab_link": true
    },
    "kernelspec": {
      "display_name": "Python 3",
      "language": "python",
      "name": "python3"
    }
  },
  "cells": [
    {
      "cell_type": "markdown",
      "metadata": {
        "id": "view-in-github",
        "colab_type": "text"
      },
      "source": [
        "<a href=\"https://colab.research.google.com/github/ashwanidv100/Data-Analysis-Task/blob/master/Solution.ipynb\" target=\"_parent\"><img src=\"https://colab.research.google.com/assets/colab-badge.svg\" alt=\"Open In Colab\"/></a>"
      ]
    },
    {
      "cell_type": "code",
      "metadata": {
        "id": "btlP3Zz_AdZK",
        "colab_type": "code",
        "colab": {}
      },
      "source": [
        "#Import the required liberaries\n",
        "import xml.etree.ElementTree as ET\n",
        "import csv"
      ],
      "execution_count": null,
      "outputs": []
    },
    {
      "cell_type": "code",
      "metadata": {
        "id": "f7od6F9IA-tx",
        "colab_type": "code",
        "colab": {}
      },
      "source": [
        "tree = ET.parse('mesa-sleep-0001-profusion.xml')                                        # Parsing the xml document(need to upload the .xml file manually)\n",
        "root = tree.getroot()                                                                   # Get the root node"
      ],
      "execution_count": null,
      "outputs": []
    },
    {
      "cell_type": "code",
      "metadata": {
        "id": "-NbQfYT0xMe8",
        "colab_type": "code",
        "colab": {}
      },
      "source": [
        "data_ = open('Data.csv', 'w')                                                           # open a file for writing"
      ],
      "execution_count": null,
      "outputs": []
    },
    {
      "cell_type": "code",
      "metadata": {
        "id": "M_aB8J3qxc6L",
        "colab_type": "code",
        "colab": {}
      },
      "source": [
        "csvwriter = csv.writer(data_)                                                           # create the csv writer object"
      ],
      "execution_count": null,
      "outputs": []
    },
    {
      "cell_type": "code",
      "metadata": {
        "id": "C6VXF7gnDZwX",
        "colab_type": "code",
        "colab": {}
      },
      "source": [
        "data=[]\n",
        "count=0\n",
        "for i in root.findall('./ScoredEvents/ScoredEvent/[Name=\"Hypopnea\"]'):\n",
        "    a=[]\n",
        "    if (count==0):\n",
        "        duration = i.find('Duration').tag\n",
        "        data.append(duration)\n",
        "        input = i.find('Input').tag\n",
        "        data.append(input)\n",
        "        name = i.find('Name').tag\n",
        "        data.append(name)\n",
        "        start = i.find('Start').tag\n",
        "        data.append(start)\n",
        "        csvwriter.writerow(data)\n",
        "        count= count+1\n",
        "        \n",
        "    \n",
        "    duration = i.find('Duration').text\n",
        "    a.append(duration)\n",
        "    \n",
        "    input = i.find('Input').text\n",
        "    a.append(input)\n",
        "    \n",
        "    name = i.find('Name').text\n",
        "    a.append(name)\n",
        "    \n",
        "    start = i.find('Start').text\n",
        "    a.append(start)\n",
        "    \n",
        "    csvwriter.writerow(a)"
      ],
      "execution_count": null,
      "outputs": []
    },
    {
      "cell_type": "code",
      "metadata": {
        "id": "j5tgoLc_Bxp1",
        "colab_type": "code",
        "colab": {}
      },
      "source": [
        "data_.close()                                                                             # Close the "
      ],
      "execution_count": null,
      "outputs": []
    }
  ]
}