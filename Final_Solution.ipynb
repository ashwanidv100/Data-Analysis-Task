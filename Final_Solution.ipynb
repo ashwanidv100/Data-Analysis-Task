{
  "nbformat": 4,
  "nbformat_minor": 0,
  "metadata": {
    "colab": {
      "name": "Final Solution",
      "provenance": [],
      "collapsed_sections": [],
      "include_colab_link": true
    },
    "kernelspec": {
      "name": "python3",
      "display_name": "Python 3"
    }
  },
  "cells": [
    {
      "cell_type": "markdown",
      "metadata": {
        "id": "view-in-github",
        "colab_type": "text"
      },
      "source": [
        "<a href=\"https://colab.research.google.com/github/ashwanidv100/Data-Analysis-Task/blob/master/Final_Solution.ipynb\" target=\"_parent\"><img src=\"https://colab.research.google.com/assets/colab-badge.svg\" alt=\"Open In Colab\"/></a>"
      ]
    },
    {
      "cell_type": "markdown",
      "metadata": {
        "id": "k-1E59TCpeFe",
        "colab_type": "text"
      },
      "source": [
        "This is only the conversion of 5s audio to 10s for only single audio file. The file I used to test my code is in the ESC-50-master\\audio\\1-137-A-32.wav"
      ]
    },
    {
      "cell_type": "code",
      "metadata": {
        "id": "KdM7vQnCo5s9",
        "colab_type": "code",
        "colab": {}
      },
      "source": [
        "import wave                                                                          # Import Liberary to access wave files\n",
        "import contextlib"
      ],
      "execution_count": null,
      "outputs": []
    },
    {
      "cell_type": "code",
      "metadata": {
        "id": "cuRPdV-Go8XR",
        "colab_type": "code",
        "colab": {}
      },
      "source": [
        "from pydub import AudioSegment                                                       # Using pydub to manipulate audio with a simple and easy high level interface"
      ],
      "execution_count": null,
      "outputs": []
    },
    {
      "cell_type": "code",
      "metadata": {
        "id": "6fJA7ghlo9KO",
        "colab_type": "code",
        "colab": {}
      },
      "source": [
        "sound = 'E:/Study/Coding Tests/mbreath_Sleepdoc/ESC-50-master/audio/1-137-A-32.wav'  # Accessing only one audio file to check the time duration\n",
        "with contextlib.closing(wave.open(sound,'r')) as f:\n",
        "    frames = f.getnframes()\n",
        "    rate = f.getframerate()\n",
        "    duration = frames / float(rate)\n",
        "    print(duration)                                                                  # Print the duration of audio "
      ],
      "execution_count": null,
      "outputs": []
    },
    {
      "cell_type": "code",
      "metadata": {
        "id": "mqwpbIqIpGHk",
        "colab_type": "code",
        "colab": {}
      },
      "source": [
        "sound = AudioSegment.from_wav(\"E:/Study/Coding Tests/mbreath_Sleepdoc/ESC-50-master/audio/1-137-A-32.wav\")   # Again accessing the file to manipulate"
      ],
      "execution_count": null,
      "outputs": []
    },
    {
      "cell_type": "code",
      "metadata": {
        "id": "s-clGfumpKhh",
        "colab_type": "code",
        "colab": {}
      },
      "source": [
        "five_Seconds= 5*1000                                                                # pydub does things in milliseconds\n",
        "first_5_seconds = sound[:five_Seconds]                                              # snipping the audio of last five seconds\n",
        "first_10_seconds =  first_5_seconds + sound                                         # Concatenate audio to make repeateable for 10s"
      ],
      "execution_count": null,
      "outputs": []
    },
    {
      "cell_type": "code",
      "metadata": {
        "id": "jEZ2e-s6pPFD",
        "colab_type": "code",
        "colab": {}
      },
      "source": [
        "first_10_seconds.export(\"1-137-A-32.wav\", format=\"wav\")                             # Exporting the output file with the same name to check the audio quality and time duration"
      ],
      "execution_count": null,
      "outputs": []
    },
    {
      "cell_type": "code",
      "metadata": {
        "id": "zO6GN0hrpVYN",
        "colab_type": "code",
        "colab": {}
      },
      "source": [
        "sound = '1-137-A-32.wav'                                                            # Accessing only one audio file to check the time duration\n",
        "with contextlib.closing(wave.open(sound,'r')) as f:\n",
        "    frames = f.getnframes()\n",
        "    rate = f.getframerate()\n",
        "    duration = frames / float(rate)\n",
        "    print(duration)                                                                 # Print the duration of audio "
      ],
      "execution_count": null,
      "outputs": []
    },
    {
      "cell_type": "markdown",
      "metadata": {
        "id": "MST6Y215mnHP",
        "colab_type": "text"
      },
      "source": [
        "Here is the codes for Converting all the 5s wav file into 10s file and replace in the same folder with the new files."
      ]
    },
    {
      "cell_type": "code",
      "metadata": {
        "id": "ybmZ9zI-nY5j",
        "colab_type": "code",
        "colab": {}
      },
      "source": [
        "import os                                        # Portable way of using operating system\n",
        "#import pydub                                    # Using pydub to manipulate audio with a simple and easy high level interface\n",
        "import glob                                      # To finds all the pathnames matching a specified pattern\n",
        "import wave                                      # Import Liberary to access wave files \n",
        "from pydub import AudioSegment                   # Using pydub to manipulate audio with a simple and easy high level interface"
      ],
      "execution_count": null,
      "outputs": []
    },
    {
      "cell_type": "code",
      "metadata": {
        "id": "c0FGrsN_m-gq",
        "colab_type": "code",
        "colab": {}
      },
      "source": [
        "wave_files= glob.glob('E:/Study/Coding Tests/mbreath_Sleepdoc/ESC-50-master/audio/*.wav')  #Just Put the Path of Directory of Your Audio Dataset\n",
        "for sound in wave_files: \n",
        "    song = AudioSegment.from_wav(sound)                             # Assinging the files to new variable \"song\" \n",
        "    file_name= os.path.splitext(sound)[0] + '.wav'                  # Assinging the file name to a new variable with adding the .wav file name\n",
        "    five_Seconds= 5*1000                                            # pydub does things in milliseconds\n",
        "    first_5_seconds = song[:five_Seconds]                           # snipping the audio of last five seconds\n",
        "    first_10_seconds =  first_5_seconds + song                      # Concatenate audio to make repeateable for 10s\n",
        "    first_10_seconds.export(file_name, format= \"wav\")               # Exporting the files in the samefolder in .wav format\n",
        "    #os.remove(sound)                                               # Only use to remove 5s audio Files with 10s Audio Files\n",
        "print(\"Conversion Compelete\")                                       # Print the statement when conversion complete"
      ],
      "execution_count": null,
      "outputs": []
    },
    {
      "cell_type": "markdown",
      "metadata": {
        "id": "1VR2IyKrnlSE",
        "colab_type": "text"
      },
      "source": [
        "Here is the code for converting the Single file from wav to its spectogram."
      ]
    },
    {
      "cell_type": "code",
      "metadata": {
        "id": "mNCVgptzoHVf",
        "colab_type": "code",
        "colab": {}
      },
      "source": [
        "#import the os, glob, pyplot and wavfile modules\n",
        "import os\n",
        "import glob\n",
        "import matplotlib.pyplot as plot\n",
        "from scipy.io import wavfile"
      ],
      "execution_count": null,
      "outputs": []
    },
    {
      "cell_type": "code",
      "metadata": {
        "id": "n-Hu7vD4oOP_",
        "colab_type": "code",
        "colab": {}
      },
      "source": [
        "wave_files= glob.glob('E:/Study/Coding Tests/mbreath_Sleepdoc/ESC-50-master/audio/1-137-A-32.wav')\n",
        "for graph in wave_files:\n",
        "    file_name= os.path.splitext(graph)[0]  +'.wav'                                         # To access the file name with '.wav'\n",
        "    samplingFrequency, signalData = wavfile.read(file_name)                                # Read the file with frequency and data\n",
        "    plot.specgram(signalData,Fs=samplingFrequency)                                         # Create spectrogram \n",
        "    file_name= os.path.splitext(graph)[0]                                                  # Again provide the same file name to our new image file\n",
        "    plot.savefig(file_name+'.png')                                                         # Creating and saving the image file in '.png' format in the same folder\n",
        "    plot.show()                                                                            # Show the Output Spectrogram\n",
        "print(\"Conversion Compelete\")                                                              # Print Conversion Complete\n"
      ],
      "execution_count": null,
      "outputs": []
    },
    {
      "cell_type": "markdown",
      "metadata": {
        "id": "1aWSmYOkoR3f",
        "colab_type": "text"
      },
      "source": [
        "This code convert all the 10s wav files into its spectogram images and save in the same folder or we can change with other directory to save it."
      ]
    },
    {
      "cell_type": "code",
      "metadata": {
        "id": "LXbRKimGo58m",
        "colab_type": "code",
        "colab": {}
      },
      "source": [
        "import os                                        # Portable way of using operating system\n",
        "#import pydub                                    # Using pydub to manipulate audio with a simple and easy high level interface\n",
        "import glob                                      # To finds all the pathnames matching a specified pattern\n",
        "import wave                                      # Import Liberary to access wave files \n",
        "from pydub import AudioSegment                   # Using pydub to manipulate audio with a simple and easy high level interface\n",
        "import matplotlib.pyplot as plot\n",
        "from scipy.io import wavfile"
      ],
      "execution_count": null,
      "outputs": []
    },
    {
      "cell_type": "code",
      "metadata": {
        "id": "OyWEEjmTpEF2",
        "colab_type": "code",
        "colab": {}
      },
      "source": [
        "wave_files= glob.glob('E:/Study/Coding Tests/mbreath_Sleepdoc/ESC-50-master/audio/*.wav')  #Just Put the Path of Directory of Your Audio Dataset\n",
        "for graph in wave_files:\n",
        "    file_name= os.path.splitext(graph)[0]                                                  # To access the file name with '.wav'\n",
        "    samplingFrequency, signalData = wavfile.read(file_name)                                # Read the file with frequency and data\n",
        "    plot.specgram(signalData,Fs=samplingFrequency)                                         # Create spectrogram \n",
        "    file_name= os.path.splitext(graph)[0]                                                  # Again provide the same file name to our new image file\n",
        "    plot.savefig(file_name+'.png')                                                         # Creating and saving the image file in '.png' format in the same folder\n",
        "print(\"Conversion Compelete\")                                                              # Print Conversion Complete"
      ],
      "execution_count": null,
      "outputs": []
    },
    {
      "cell_type": "markdown",
      "metadata": {
        "id": "uBMhuXsp9nPj",
        "colab_type": "text"
      },
      "source": [
        "Now Writing a deep learning code using Keras Framework and Tensorflow backend.\n",
        "Convolutional Neural Network(CNN)"
      ]
    },
    {
      "cell_type": "code",
      "metadata": {
        "id": "D52Mbnul-Exa",
        "colab_type": "code",
        "colab": {}
      },
      "source": [
        "import IPython.display as ipd                                                             #To play this in the jupyter notebook imprt IPython"
      ],
      "execution_count": null,
      "outputs": []
    },
    {
      "cell_type": "code",
      "metadata": {
        "id": "w-3Z2JM--Mqx",
        "colab_type": "code",
        "colab": {}
      },
      "source": [
        "ipd.Audio('E:/Study/Coding Tests/mbreath_Sleepdoc/ESC-50-master/audio/1-137-A-32.wav')    #ipd.Audio (Directory of the sound file)"
      ],
      "execution_count": null,
      "outputs": []
    },
    {
      "cell_type": "code",
      "metadata": {
        "id": "aYkD2zwM-TG7",
        "colab_type": "code",
        "colab": {}
      },
      "source": [
        "# Installing Theano\n",
        "!pip install --upgrade --no-deps git+git://github.com/Theano/Theano.git\n",
        "\n",
        "# Installing Tensorflow\n",
        "!pip install tensorflow\n",
        "\n",
        "# Installing Keras\n",
        "!pip install --upgrade keras"
      ],
      "execution_count": null,
      "outputs": []
    },
    {
      "cell_type": "code",
      "metadata": {
        "id": "dla9HutY-Xn_",
        "colab_type": "code",
        "colab": {}
      },
      "source": [
        "# Importing the Keras libraries and packages\n",
        "from keras.models import Sequential\n",
        "from keras.layers import Conv2D\n",
        "from keras.layers import MaxPooling2D\n",
        "from keras.layers import Flatten\n",
        "from keras.layers import Dense"
      ],
      "execution_count": null,
      "outputs": []
    },
    {
      "cell_type": "code",
      "metadata": {
        "id": "Wh2-ZXZ3-b5R",
        "colab_type": "code",
        "colab": {}
      },
      "source": [
        "classifier = Sequential()                                                                # Initialising the CNN"
      ],
      "execution_count": null,
      "outputs": []
    },
    {
      "cell_type": "code",
      "metadata": {
        "id": "1m_zQgdP-edh",
        "colab_type": "code",
        "colab": {}
      },
      "source": [
        "classifier.add(Conv2D(32, (3, 3), input_shape = (64, 64, 3), activation = 'relu'))       # Convolution"
      ],
      "execution_count": null,
      "outputs": []
    },
    {
      "cell_type": "code",
      "metadata": {
        "id": "NhMjjQ45-j5h",
        "colab_type": "code",
        "colab": {}
      },
      "source": [
        "classifier.add(MaxPooling2D(pool_size = (2, 2)))                                         # Pooling"
      ],
      "execution_count": null,
      "outputs": []
    },
    {
      "cell_type": "code",
      "metadata": {
        "id": "q3lRXybg-kgu",
        "colab_type": "code",
        "colab": {}
      },
      "source": [
        "classifier.add(Conv2D(32, (3, 3), activation = 'relu'))                                  # Adding a second convolutional layer\n",
        "classifier.add(MaxPooling2D(pool_size = (2, 2)))"
      ],
      "execution_count": null,
      "outputs": []
    },
    {
      "cell_type": "code",
      "metadata": {
        "id": "Enkuiti8-kou",
        "colab_type": "code",
        "colab": {}
      },
      "source": [
        "classifier.add(Flatten())                                                                # Flattening"
      ],
      "execution_count": null,
      "outputs": []
    },
    {
      "cell_type": "code",
      "metadata": {
        "id": "AkZDg3kD-qqd",
        "colab_type": "code",
        "colab": {}
      },
      "source": [
        "classifier.add(Dense(units = 128, activation = 'relu'))                                  # Full connection\n",
        "classifier.add(Dense(units = 1, activation = 'sigmoid'))"
      ],
      "execution_count": null,
      "outputs": []
    },
    {
      "cell_type": "code",
      "metadata": {
        "id": "2A6tbyRG-qmP",
        "colab_type": "code",
        "colab": {}
      },
      "source": [
        "classifier.compile(optimizer = 'adam', loss = 'binary_crossentropy', metrics = ['accuracy']) # Compiling the CNN"
      ],
      "execution_count": null,
      "outputs": []
    },
    {
      "cell_type": "code",
      "metadata": {
        "id": "IEIR0yuc-x3J",
        "colab_type": "code",
        "colab": {}
      },
      "source": [
        "# Fitting the CNN to the images\n",
        "from keras.preprocessing.image import ImageDataGenerator\n",
        "\n",
        "train_datagen = ImageDataGenerator(rescale = 1./255, shear_range = 0.2, zoom_range = 0.2, horizontal_flip = True)    # Training Data Generator\n",
        "test_datagen = ImageDataGenerator(rescale = 1./255)                                                                  # Test Data Generator    \n",
        "training_set = train_datagen.flow_from_directory('E:/Study/Coding Tests/mbreath_Sleepdoc/ESC-50-master/audio/', target_size = (64, 64), batch_size = 32, class_mode = 'binary')   # Training Sets(chnage the directory to tain the model)\n",
        "test_set = test_datagen.flow_from_directory('E:/Study/Coding Tests/mbreath_Sleepdoc/ESC-50-master/audio/', target_size = (64, 64), batch_size = 32, class_mode = 'binary')        # Test Sets( Change the directory to test the model)\n",
        "classifier.fit_generator(training_set, steps_per_epoch = 8000, epochs = 25, validation_data = test_set, validation_steps = 2000)                                                  # IMage Classifier"
      ],
      "execution_count": null,
      "outputs": []
    },
    {
      "cell_type": "code",
      "metadata": {
        "id": "uUTlBNOq-xzu",
        "colab_type": "code",
        "colab": {}
      },
      "source": [
        "# Making new predictions\n",
        "import numpy as np                                                                        # Again import numpy, but not necessary if you already imported\n",
        "from keras.preprocessing import image\n",
        "test_image = image.load_img('E:/Study/Coding Tests/mbreath_Sleepdoc/ESC-50-master/audio/1-137-A-32.png', target_size = (64, 64))      # Load test image (for testing the results)\n",
        "test_image = image.img_to_array(test_image)\n",
        "test_image = np.expand_dims(test_image, axis = 0)\n",
        "result = classifier.predict(test_image)\n",
        "training_set.class_indices\n",
        "if result[0][0] == 1:\n",
        "    prediction = 'Keyboard typing'                                                        # Print Result Keyboard typing\n",
        "else:\n",
        "    prediction = 'Water drops'                                                         # Print Result Water drops"
      ],
      "execution_count": null,
      "outputs": []
    },
    {
      "cell_type": "markdown",
      "metadata": {
        "id": "ZYCFP6TOxFWA",
        "colab_type": "text"
      },
      "source": [
        "This CNN model is only work for one Image, I won't be able to get the files all converted, so I build for only one Image. But it's also working on all datasets, if you found no error while running it. "
      ]
    }
  ]
}