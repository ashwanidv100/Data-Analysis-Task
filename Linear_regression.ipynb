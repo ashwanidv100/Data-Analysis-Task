{
  "nbformat": 4,
  "nbformat_minor": 0,
  "metadata": {
    "colab": {
      "name": "Linear-regression.ipynb",
      "provenance": [],
      "collapsed_sections": [
        "UoKUZi2Y-6d1",
        "4Dw_cyO__72C",
        "4jF1SQwsdNrT"
      ],
      "toc_visible": true,
      "include_colab_link": true
    },
    "kernelspec": {
      "name": "python3",
      "display_name": "Python 3"
    }
  },
  "cells": [
    {
      "cell_type": "markdown",
      "metadata": {
        "id": "view-in-github",
        "colab_type": "text"
      },
      "source": [
        "<a href=\"https://colab.research.google.com/github/ashwanidv100/Data-Analysis-Task/blob/master/Linear_regression.ipynb\" target=\"_parent\"><img src=\"https://colab.research.google.com/assets/colab-badge.svg\" alt=\"Open In Colab\"/></a>"
      ]
    },
    {
      "cell_type": "markdown",
      "metadata": {
        "id": "UoKUZi2Y-6d1",
        "colab_type": "text"
      },
      "source": [
        "# **Linear_Regression_with_Gradient_Descent**"
      ]
    },
    {
      "cell_type": "code",
      "metadata": {
        "id": "NWOGsPgpvq4p",
        "colab_type": "code",
        "colab": {
          "base_uri": "https://localhost:8080/",
          "height": 428
        },
        "outputId": "1eb91595-2ab4-4617-87f3-ee7711ca2a47"
      },
      "source": [
        "!pip install quandl "
      ],
      "execution_count": null,
      "outputs": [
        {
          "output_type": "stream",
          "text": [
            "Collecting quandl\n",
            "  Downloading https://files.pythonhosted.org/packages/d3/70/c05e132321ae2375f26428e7097230b3b735a31d6b78077d5f15b3fb0e6b/Quandl-3.4.2-py2.py3-none-any.whl\n",
            "Collecting more-itertools (from quandl)\n",
            "\u001b[?25l  Downloading https://files.pythonhosted.org/packages/79/b1/eace304ef66bd7d3d8b2f78cc374b73ca03bc53664d78151e9df3b3996cc/more_itertools-4.3.0-py3-none-any.whl (48kB)\n",
            "\u001b[K    100% |████████████████████████████████| 51kB 3.4MB/s \n",
            "\u001b[?25hRequirement already satisfied: numpy>=1.8 in /usr/local/lib/python3.6/dist-packages (from quandl) (1.14.6)\n",
            "Requirement already satisfied: requests>=2.7.0 in /usr/local/lib/python3.6/dist-packages (from quandl) (2.18.4)\n",
            "Requirement already satisfied: six in /usr/local/lib/python3.6/dist-packages (from quandl) (1.11.0)\n",
            "Requirement already satisfied: python-dateutil in /usr/local/lib/python3.6/dist-packages (from quandl) (2.5.3)\n",
            "Collecting inflection>=0.3.1 (from quandl)\n",
            "  Downloading https://files.pythonhosted.org/packages/d5/35/a6eb45b4e2356fe688b21570864d4aa0d0a880ce387defe9c589112077f8/inflection-0.3.1.tar.gz\n",
            "Requirement already satisfied: pandas>=0.14 in /usr/local/lib/python3.6/dist-packages (from quandl) (0.22.0)\n",
            "Requirement already satisfied: idna<2.7,>=2.5 in /usr/local/lib/python3.6/dist-packages (from requests>=2.7.0->quandl) (2.6)\n",
            "Requirement already satisfied: certifi>=2017.4.17 in /usr/local/lib/python3.6/dist-packages (from requests>=2.7.0->quandl) (2018.8.24)\n",
            "Requirement already satisfied: chardet<3.1.0,>=3.0.2 in /usr/local/lib/python3.6/dist-packages (from requests>=2.7.0->quandl) (3.0.4)\n",
            "Requirement already satisfied: urllib3<1.23,>=1.21.1 in /usr/local/lib/python3.6/dist-packages (from requests>=2.7.0->quandl) (1.22)\n",
            "Requirement already satisfied: pytz>=2011k in /usr/local/lib/python3.6/dist-packages (from pandas>=0.14->quandl) (2018.5)\n",
            "Building wheels for collected packages: inflection\n",
            "  Running setup.py bdist_wheel for inflection ... \u001b[?25l-\b \bdone\n",
            "\u001b[?25h  Stored in directory: /root/.cache/pip/wheels/9f/5a/d3/6fc3bf6516d2a3eb7e18f9f28b472110b59325f3f258fe9211\n",
            "Successfully built inflection\n",
            "Installing collected packages: more-itertools, inflection, quandl\n",
            "Successfully installed inflection-0.3.1 more-itertools-4.3.0 quandl-3.4.2\n"
          ],
          "name": "stdout"
        }
      ]
    },
    {
      "cell_type": "code",
      "metadata": {
        "id": "-_OgRaH2nBye",
        "colab_type": "code",
        "colab": {}
      },
      "source": [
        "import pandas as pd\n",
        "import matplotlib.pyplot as plt\n",
        "import numpy as np\n",
        "import quandl\n",
        "import os\n",
        "from google.colab import files"
      ],
      "execution_count": null,
      "outputs": []
    },
    {
      "cell_type": "code",
      "metadata": {
        "id": "CWF3Av6JzJB3",
        "colab_type": "code",
        "colab": {
          "base_uri": "https://localhost:8080/",
          "height": 119
        },
        "outputId": "c6122e28-c478-48a8-f678-3c2c8b5e0dd2"
      },
      "source": [
        " ! git clone --recursive https://github.com/ashwanidv100/Learn_Machine_Learning"
      ],
      "execution_count": null,
      "outputs": [
        {
          "output_type": "stream",
          "text": [
            "Cloning into 'Learn_Machine_Learning'...\n",
            "remote: Enumerating objects: 61, done.\u001b[K\n",
            "remote: Counting objects: 100% (61/61), done.\u001b[K\n",
            "remote: Compressing objects: 100% (54/54), done.\u001b[K\n",
            "remote: Total 61 (delta 16), reused 0 (delta 0), pack-reused 0\u001b[K\n",
            "Unpacking objects: 100% (61/61), done.\n"
          ],
          "name": "stdout"
        }
      ]
    },
    {
      "cell_type": "code",
      "metadata": {
        "id": "WGtYGHuh5ZmM",
        "colab_type": "code",
        "colab": {
          "base_uri": "https://localhost:8080/",
          "height": 979
        },
        "outputId": "ea8b6abe-058b-424c-cf6f-bdb1d87910b4"
      },
      "source": [
        "df=pd.read_csv(\"Learn_Machine_Learning/Day 1/Salary_Data.csv\")\n",
        "df"
      ],
      "execution_count": null,
      "outputs": [
        {
          "output_type": "execute_result",
          "data": {
            "text/html": [
              "<div>\n",
              "<style scoped>\n",
              "    .dataframe tbody tr th:only-of-type {\n",
              "        vertical-align: middle;\n",
              "    }\n",
              "\n",
              "    .dataframe tbody tr th {\n",
              "        vertical-align: top;\n",
              "    }\n",
              "\n",
              "    .dataframe thead th {\n",
              "        text-align: right;\n",
              "    }\n",
              "</style>\n",
              "<table border=\"1\" class=\"dataframe\">\n",
              "  <thead>\n",
              "    <tr style=\"text-align: right;\">\n",
              "      <th></th>\n",
              "      <th>YearsExperience</th>\n",
              "      <th>Salary</th>\n",
              "    </tr>\n",
              "  </thead>\n",
              "  <tbody>\n",
              "    <tr>\n",
              "      <th>0</th>\n",
              "      <td>1.1</td>\n",
              "      <td>39343.0</td>\n",
              "    </tr>\n",
              "    <tr>\n",
              "      <th>1</th>\n",
              "      <td>1.3</td>\n",
              "      <td>46205.0</td>\n",
              "    </tr>\n",
              "    <tr>\n",
              "      <th>2</th>\n",
              "      <td>1.5</td>\n",
              "      <td>37731.0</td>\n",
              "    </tr>\n",
              "    <tr>\n",
              "      <th>3</th>\n",
              "      <td>2.0</td>\n",
              "      <td>43525.0</td>\n",
              "    </tr>\n",
              "    <tr>\n",
              "      <th>4</th>\n",
              "      <td>2.2</td>\n",
              "      <td>39891.0</td>\n",
              "    </tr>\n",
              "    <tr>\n",
              "      <th>5</th>\n",
              "      <td>2.9</td>\n",
              "      <td>56642.0</td>\n",
              "    </tr>\n",
              "    <tr>\n",
              "      <th>6</th>\n",
              "      <td>3.0</td>\n",
              "      <td>60150.0</td>\n",
              "    </tr>\n",
              "    <tr>\n",
              "      <th>7</th>\n",
              "      <td>3.2</td>\n",
              "      <td>54445.0</td>\n",
              "    </tr>\n",
              "    <tr>\n",
              "      <th>8</th>\n",
              "      <td>3.2</td>\n",
              "      <td>64445.0</td>\n",
              "    </tr>\n",
              "    <tr>\n",
              "      <th>9</th>\n",
              "      <td>3.7</td>\n",
              "      <td>57189.0</td>\n",
              "    </tr>\n",
              "    <tr>\n",
              "      <th>10</th>\n",
              "      <td>3.9</td>\n",
              "      <td>63218.0</td>\n",
              "    </tr>\n",
              "    <tr>\n",
              "      <th>11</th>\n",
              "      <td>4.0</td>\n",
              "      <td>55794.0</td>\n",
              "    </tr>\n",
              "    <tr>\n",
              "      <th>12</th>\n",
              "      <td>4.0</td>\n",
              "      <td>56957.0</td>\n",
              "    </tr>\n",
              "    <tr>\n",
              "      <th>13</th>\n",
              "      <td>4.1</td>\n",
              "      <td>57081.0</td>\n",
              "    </tr>\n",
              "    <tr>\n",
              "      <th>14</th>\n",
              "      <td>4.5</td>\n",
              "      <td>61111.0</td>\n",
              "    </tr>\n",
              "    <tr>\n",
              "      <th>15</th>\n",
              "      <td>4.9</td>\n",
              "      <td>67938.0</td>\n",
              "    </tr>\n",
              "    <tr>\n",
              "      <th>16</th>\n",
              "      <td>5.1</td>\n",
              "      <td>66029.0</td>\n",
              "    </tr>\n",
              "    <tr>\n",
              "      <th>17</th>\n",
              "      <td>5.3</td>\n",
              "      <td>83088.0</td>\n",
              "    </tr>\n",
              "    <tr>\n",
              "      <th>18</th>\n",
              "      <td>5.9</td>\n",
              "      <td>81363.0</td>\n",
              "    </tr>\n",
              "    <tr>\n",
              "      <th>19</th>\n",
              "      <td>6.0</td>\n",
              "      <td>93940.0</td>\n",
              "    </tr>\n",
              "    <tr>\n",
              "      <th>20</th>\n",
              "      <td>6.8</td>\n",
              "      <td>91738.0</td>\n",
              "    </tr>\n",
              "    <tr>\n",
              "      <th>21</th>\n",
              "      <td>7.1</td>\n",
              "      <td>98273.0</td>\n",
              "    </tr>\n",
              "    <tr>\n",
              "      <th>22</th>\n",
              "      <td>7.9</td>\n",
              "      <td>101302.0</td>\n",
              "    </tr>\n",
              "    <tr>\n",
              "      <th>23</th>\n",
              "      <td>8.2</td>\n",
              "      <td>113812.0</td>\n",
              "    </tr>\n",
              "    <tr>\n",
              "      <th>24</th>\n",
              "      <td>8.7</td>\n",
              "      <td>109431.0</td>\n",
              "    </tr>\n",
              "    <tr>\n",
              "      <th>25</th>\n",
              "      <td>9.0</td>\n",
              "      <td>105582.0</td>\n",
              "    </tr>\n",
              "    <tr>\n",
              "      <th>26</th>\n",
              "      <td>9.5</td>\n",
              "      <td>116969.0</td>\n",
              "    </tr>\n",
              "    <tr>\n",
              "      <th>27</th>\n",
              "      <td>9.6</td>\n",
              "      <td>112635.0</td>\n",
              "    </tr>\n",
              "    <tr>\n",
              "      <th>28</th>\n",
              "      <td>10.3</td>\n",
              "      <td>122391.0</td>\n",
              "    </tr>\n",
              "    <tr>\n",
              "      <th>29</th>\n",
              "      <td>10.5</td>\n",
              "      <td>121872.0</td>\n",
              "    </tr>\n",
              "  </tbody>\n",
              "</table>\n",
              "</div>"
            ],
            "text/plain": [
              "    YearsExperience    Salary\n",
              "0               1.1   39343.0\n",
              "1               1.3   46205.0\n",
              "2               1.5   37731.0\n",
              "3               2.0   43525.0\n",
              "4               2.2   39891.0\n",
              "5               2.9   56642.0\n",
              "6               3.0   60150.0\n",
              "7               3.2   54445.0\n",
              "8               3.2   64445.0\n",
              "9               3.7   57189.0\n",
              "10              3.9   63218.0\n",
              "11              4.0   55794.0\n",
              "12              4.0   56957.0\n",
              "13              4.1   57081.0\n",
              "14              4.5   61111.0\n",
              "15              4.9   67938.0\n",
              "16              5.1   66029.0\n",
              "17              5.3   83088.0\n",
              "18              5.9   81363.0\n",
              "19              6.0   93940.0\n",
              "20              6.8   91738.0\n",
              "21              7.1   98273.0\n",
              "22              7.9  101302.0\n",
              "23              8.2  113812.0\n",
              "24              8.7  109431.0\n",
              "25              9.0  105582.0\n",
              "26              9.5  116969.0\n",
              "27              9.6  112635.0\n",
              "28             10.3  122391.0\n",
              "29             10.5  121872.0"
            ]
          },
          "metadata": {
            "tags": []
          },
          "execution_count": 27
        }
      ]
    },
    {
      "cell_type": "code",
      "metadata": {
        "id": "l2m2BS6-6HaS",
        "colab_type": "code",
        "colab": {}
      },
      "source": [
        "X= df['YearsExperience'].values\n",
        "Y= df['Salary'].values"
      ],
      "execution_count": null,
      "outputs": []
    },
    {
      "cell_type": "code",
      "metadata": {
        "id": "wyb1x1q_6u9h",
        "colab_type": "code",
        "colab": {}
      },
      "source": [
        "mean_X= np.mean(X)\n",
        "mean_Y= np.mean(Y)"
      ],
      "execution_count": null,
      "outputs": []
    },
    {
      "cell_type": "code",
      "metadata": {
        "id": "RR62IIc661lp",
        "colab_type": "code",
        "colab": {
          "base_uri": "https://localhost:8080/",
          "height": 361
        },
        "outputId": "b657719d-28fe-4da0-d6b5-f72d2b18d322"
      },
      "source": [
        "plt.scatter(X,Y)\n",
        "plt.xlabel(\"Years Experience\")\n",
        "plt.ylabel(\"Salary\")\n",
        "plt.show()"
      ],
      "execution_count": null,
      "outputs": [
        {
          "output_type": "display_data",
          "data": {
            "image/png": "[encoded data removed]",
            "text/plain": [
              "<matplotlib.figure.Figure at 0x7f2968350470>"
            ]
          },
          "metadata": {
            "tags": []
          }
        }
      ]
    },
    {
      "cell_type": "code",
      "metadata": {
        "id": "USG2iLIf7yKr",
        "colab_type": "code",
        "colab": {}
      },
      "source": [
        "n= len(X)\n",
        "X_mean= np.mean(X)\n",
        "Y_mean= np.mean(Y)\n",
        "XY_mean= np.mean(X*Y)\n",
        "XX_mean= np.mean(X*X)"
      ],
      "execution_count": null,
      "outputs": []
    },
    {
      "cell_type": "code",
      "metadata": {
        "id": "MICxoA4-8c04",
        "colab_type": "code",
        "colab": {}
      },
      "source": [
        "def slopeIntercept(x_val, y_val):\n",
        "  X= np.array(x_val)\n",
        "  Y= np.array(y_val)\n",
        "  numer= X_mean*Y_mean - XY_mean\n",
        "  denom= X_mean*X_mean - XX_mean\n",
        "  b0 =  numer/denom\n",
        "  b1= Y_mean- (X_mean*b0)\n",
        "  b1= round(b1, 2)\n",
        "  return b0, b1"
      ],
      "execution_count": null,
      "outputs": []
    },
    {
      "cell_type": "code",
      "metadata": {
        "id": "PSHOdFeJ9Fpg",
        "colab_type": "code",
        "colab": {}
      },
      "source": [
        "B0, B1 = slopeIntercept(X,Y)"
      ],
      "execution_count": null,
      "outputs": []
    },
    {
      "cell_type": "code",
      "metadata": {
        "id": "LOeHgK8d9MFs",
        "colab_type": "code",
        "colab": {}
      },
      "source": [
        "regline= [(B0*X)+B1 for x in X]"
      ],
      "execution_count": null,
      "outputs": []
    },
    {
      "cell_type": "code",
      "metadata": {
        "id": "WKYWlY729Yat",
        "colab_type": "code",
        "colab": {
          "base_uri": "https://localhost:8080/",
          "height": 857
        },
        "outputId": "a4fb7d1d-02ec-43e2-c248-8fac7500550d"
      },
      "source": [
        "plt.scatter(X,Y)\n",
        "plt.plot(X, regline)\n"
      ],
      "execution_count": null,
      "outputs": [
        {
          "output_type": "execute_result",
          "data": {
            "text/plain": [
              "[<matplotlib.lines.Line2D at 0x7f2968298b38>,\n",
              " <matplotlib.lines.Line2D at 0x7f29682629e8>,\n",
              " <matplotlib.lines.Line2D at 0x7f2968262b70>,\n",
              " <matplotlib.lines.Line2D at 0x7f2968262cf8>,\n",
              " <matplotlib.lines.Line2D at 0x7f2968262e80>,\n",
              " <matplotlib.lines.Line2D at 0x7f2968269048>,\n",
              " <matplotlib.lines.Line2D at 0x7f2968240668>,\n",
              " <matplotlib.lines.Line2D at 0x7f2968269320>,\n",
              " <matplotlib.lines.Line2D at 0x7f29682694a8>,\n",
              " <matplotlib.lines.Line2D at 0x7f2968269630>,\n",
              " <matplotlib.lines.Line2D at 0x7f29682697b8>,\n",
              " <matplotlib.lines.Line2D at 0x7f2968269940>,\n",
              " <matplotlib.lines.Line2D at 0x7f2968269ac8>,\n",
              " <matplotlib.lines.Line2D at 0x7f2968269c50>,\n",
              " <matplotlib.lines.Line2D at 0x7f2968269dd8>,\n",
              " <matplotlib.lines.Line2D at 0x7f2968269f60>,\n",
              " <matplotlib.lines.Line2D at 0x7f29681ee128>,\n",
              " <matplotlib.lines.Line2D at 0x7f29681ee2b0>,\n",
              " <matplotlib.lines.Line2D at 0x7f29681ee438>,\n",
              " <matplotlib.lines.Line2D at 0x7f29681ee5c0>,\n",
              " <matplotlib.lines.Line2D at 0x7f29681ee748>,\n",
              " <matplotlib.lines.Line2D at 0x7f29681ee8d0>,\n",
              " <matplotlib.lines.Line2D at 0x7f29681eea58>,\n",
              " <matplotlib.lines.Line2D at 0x7f29681eebe0>,\n",
              " <matplotlib.lines.Line2D at 0x7f29681eed68>,\n",
              " <matplotlib.lines.Line2D at 0x7f29681eeef0>,\n",
              " <matplotlib.lines.Line2D at 0x7f29681f20b8>,\n",
              " <matplotlib.lines.Line2D at 0x7f29681f2240>,\n",
              " <matplotlib.lines.Line2D at 0x7f29681f23c8>,\n",
              " <matplotlib.lines.Line2D at 0x7f29681f2550>]"
            ]
          },
          "metadata": {
            "tags": []
          },
          "execution_count": 39
        },
        {
          "output_type": "display_data",
          "data": {
            "image/png": "[encoded data removed]",
            "text/plain": [
              "<matplotlib.figure.Figure at 0x7f2968298940>"
            ]
          },
          "metadata": {
            "tags": []
          }
        }
      ]
    },
    {
      "cell_type": "markdown",
      "metadata": {
        "id": "4Dw_cyO__72C",
        "colab_type": "text"
      },
      "source": [
        "# **Linear_Regression**"
      ]
    },
    {
      "cell_type": "code",
      "metadata": {
        "id": "BDpk9HBq_EXg",
        "colab_type": "code",
        "colab": {
          "base_uri": "https://localhost:8080/",
          "height": 34
        },
        "outputId": "9b18370c-8a41-446e-f223-ca728ed6724c"
      },
      "source": [
        "cw= os.listdir()\n",
        "cw"
      ],
      "execution_count": null,
      "outputs": [
        {
          "output_type": "execute_result",
          "data": {
            "text/plain": [
              "['.config', 'sample_data', 'Learn_Machine_Learning']"
            ]
          },
          "metadata": {
            "tags": []
          },
          "execution_count": 40
        }
      ]
    },
    {
      "cell_type": "code",
      "metadata": {
        "id": "9bd2juBgANx-",
        "colab_type": "code",
        "colab": {}
      },
      "source": [
        "dataset= pd.read_csv('Learn_Machine_Learning/Day 1/Salary_Data.csv')"
      ],
      "execution_count": null,
      "outputs": []
    },
    {
      "cell_type": "code",
      "metadata": {
        "id": "ZN-QFOiUAZ9q",
        "colab_type": "code",
        "colab": {}
      },
      "source": [
        "X= dataset.iloc[:,:-1].values\n",
        "Y= dataset.iloc[:,1].values"
      ],
      "execution_count": null,
      "outputs": []
    },
    {
      "cell_type": "code",
      "metadata": {
        "id": "uF85HSPKAt5J",
        "colab_type": "code",
        "colab": {}
      },
      "source": [
        "from sklearn.cross_validation import train_test_split"
      ],
      "execution_count": null,
      "outputs": []
    },
    {
      "cell_type": "code",
      "metadata": {
        "id": "tkFgTFEkA5bu",
        "colab_type": "code",
        "colab": {}
      },
      "source": [
        "X_train, X_test, Y_train,Y_test= train_test_split(X,Y, test_size= 0.33)"
      ],
      "execution_count": null,
      "outputs": []
    },
    {
      "cell_type": "code",
      "metadata": {
        "id": "ikZbCHqaBPJZ",
        "colab_type": "code",
        "colab": {}
      },
      "source": [
        "from sklearn.linear_model import LinearRegression"
      ],
      "execution_count": null,
      "outputs": []
    },
    {
      "cell_type": "code",
      "metadata": {
        "id": "HFizC6ElBgqY",
        "colab_type": "code",
        "colab": {
          "base_uri": "https://localhost:8080/",
          "height": 34
        },
        "outputId": "2ca7f13a-89bd-470c-b809-a2aeee479377"
      },
      "source": [
        "regressor= LinearRegression()\n",
        "regressor.fit(X_train, Y_train)"
      ],
      "execution_count": null,
      "outputs": [
        {
          "output_type": "execute_result",
          "data": {
            "text/plain": [
              "LinearRegression(copy_X=True, fit_intercept=True, n_jobs=1, normalize=False)"
            ]
          },
          "metadata": {
            "tags": []
          },
          "execution_count": 55
        }
      ]
    },
    {
      "cell_type": "code",
      "metadata": {
        "id": "LUf5iuf8BtMx",
        "colab_type": "code",
        "colab": {
          "base_uri": "https://localhost:8080/",
          "height": 68
        },
        "outputId": "f6bd06d6-5685-4a4f-95dc-a1d1f24c02a6"
      },
      "source": [
        "Y_pred = regressor.predict(X_test)\n",
        "Y_pred"
      ],
      "execution_count": null,
      "outputs": [
        {
          "output_type": "execute_result",
          "data": {
            "text/plain": [
              "array([ 52366.04757324, 117329.13670691,  62062.03102602,  36852.47404878,\n",
              "        93089.17807494,  90180.38303911,  63031.6293713 ,  34913.27735822,\n",
              "        55274.84260907,  63031.6293713 ])"
            ]
          },
          "metadata": {
            "tags": []
          },
          "execution_count": 56
        }
      ]
    },
    {
      "cell_type": "code",
      "metadata": {
        "id": "mZdg8ZT7CBD2",
        "colab_type": "code",
        "colab": {
          "base_uri": "https://localhost:8080/",
          "height": 34
        },
        "outputId": "ef44f3ed-7c2a-47e9-956f-61a2a7aca9bb"
      },
      "source": [
        "Y_pred= regressor.predict(13)\n",
        "print(Y_pred)"
      ],
      "execution_count": null,
      "outputs": [
        {
          "output_type": "stream",
          "text": [
            "[150295.48044639]\n"
          ],
          "name": "stdout"
        }
      ]
    },
    {
      "cell_type": "code",
      "metadata": {
        "id": "CPg39_x2CUdo",
        "colab_type": "code",
        "colab": {
          "base_uri": "https://localhost:8080/",
          "height": 376
        },
        "outputId": "fba612d5-323c-4deb-ca07-5f17d68698bb"
      },
      "source": [
        "plt.scatter(X_train, Y_train, color = 'red')\n",
        "plt.plot(X_train, regressor.predict(X_train), color= 'blue')\n",
        "plt.title('Salary vs Experience (Training set)')\n",
        "plt.xlabel('Years of Experience')\n",
        "plt.ylabel('Salary')\n",
        "plt.show()"
      ],
      "execution_count": null,
      "outputs": [
        {
          "output_type": "display_data",
          "data": {
            "image/png": "[encoded data removed]",
            "text/plain": [
              "<matplotlib.figure.Figure at 0x7f2968305128>"
            ]
          },
          "metadata": {
            "tags": []
          }
        }
      ]
    },
    {
      "cell_type": "code",
      "metadata": {
        "id": "JIMSuDf_DBRW",
        "colab_type": "code",
        "colab": {
          "base_uri": "https://localhost:8080/",
          "height": 376
        },
        "outputId": "5522cfa2-2fca-4103-a128-bc4d03893370"
      },
      "source": [
        "plt.scatter(X_test, Y_test, color = 'red')\n",
        "plt.plot(X_train, regressor.predict(X_train), color = 'blue')\n",
        "plt.title('Salary vs Experience (Test set)')\n",
        "plt.xlabel('Years of Experience')\n",
        "plt.ylabel('Salary')\n",
        "plt.show()"
      ],
      "execution_count": null,
      "outputs": [
        {
          "output_type": "display_data",
          "data": {
            "image/png": "[encoded data removed]",
            "text/plain": [
              "<matplotlib.figure.Figure at 0x7f29682ceb38>"
            ]
          },
          "metadata": {
            "tags": []
          }
        }
      ]
    },
    {
      "cell_type": "markdown",
      "metadata": {
        "id": "4jF1SQwsdNrT",
        "colab_type": "text"
      },
      "source": [
        "# Support_Vector_machine-checkpoint"
      ]
    },
    {
      "cell_type": "code",
      "metadata": {
        "id": "kewm43aadT5f",
        "colab_type": "code",
        "colab": {}
      },
      "source": [
        "import numpy as np\n",
        "from matplotlib import pyplot as plt\n",
        "%matplotlib inline"
      ],
      "execution_count": null,
      "outputs": []
    },
    {
      "cell_type": "code",
      "metadata": {
        "id": "uNOWnh1xdcMi",
        "colab_type": "code",
        "colab": {}
      },
      "source": [
        "X=np.array([\n",
        "    [-2,4,-1],\n",
        "    [4,1,-1],\n",
        "    [1,6,-1],\n",
        "    [2,4,-1],\n",
        "    [6,2,-1],\n",
        "])\n",
        "Y=np.array([-1,1,-1,-1,1])"
      ],
      "execution_count": null,
      "outputs": []
    },
    {
      "cell_type": "code",
      "metadata": {
        "id": "FP5MkZHaeVze",
        "colab_type": "code",
        "colab": {
          "base_uri": "https://localhost:8080/",
          "height": 282
        },
        "outputId": "57afbc46-2a60-4e65-cb4a-483cc9cf5840"
      },
      "source": [
        "for d,sample in enumerate(X):\n",
        "    #plotting the negative samples or say the first two samples\n",
        "    if d<2:\n",
        "        plt.scatter(sample[0],sample[1],s=120,marker='_',linewidth=2)\n",
        "    else:\n",
        "        plt.scatter(sample[0],sample[1],s=120,marker='+',linewidth=2)\n",
        "plt.plot((-2,6),(6,0.5))"
      ],
      "execution_count": null,
      "outputs": [
        {
          "output_type": "execute_result",
          "data": {
            "text/plain": [
              "[<matplotlib.lines.Line2D at 0x7f09b0cad9b0>]"
            ]
          },
          "metadata": {
            "tags": []
          },
          "execution_count": 5
        },
        {
          "output_type": "display_data",
          "data": {
            "image/png": "[encoded data removed]",
            "text/plain": [
              "<matplotlib.figure.Figure at 0x7f09b1812f28>"
            ]
          },
          "metadata": {
            "tags": []
          }
        }
      ]
    },
    {
      "cell_type": "code",
      "metadata": {
        "id": "Bat2NZX7ebXW",
        "colab_type": "code",
        "colab": {}
      },
      "source": [
        "#stochastic gradient descent to learn separating hyperplane\n",
        "def svmPlot(X,Y):\n",
        "    #weight vector with zeroes\n",
        "    q=np.zeros(len(X[0]))\n",
        "    #learning rate\n",
        "    eta=1\n",
        "    #no of iterations\n",
        "    epochs=100000\n",
        "    #error cna be stored in this\n",
        "    errrors=[]\n",
        "        \n",
        "    #training part\n",
        "    for epoch in range(1,epochs):\n",
        "        error=0\n",
        "        for i,x in enumerate(X):\n",
        "            if(Y[i]*np.dot(X[i],w))<1:\n",
        "                w=w+eta*((X[i]*Y[i])+(-2*(1/epoch)*w))\n",
        "                error=1\n",
        "            else:\n",
        "                w=w+eta*(-2*(1/epoch)*w)\n",
        "        errors.append(error)\n",
        "    #plotting the rate of classification errors \n",
        "    plt.plot(errors,'|')\n",
        "    plt.ylim(0.5,1.5)\n",
        "    plt.axes().set_yticklabels({})\n",
        "    plt.xlabel('epoch')\n",
        "    plt.ylabel('misclassified')\n",
        "    plt.show()\n",
        "    \n",
        "    return w"
      ],
      "execution_count": null,
      "outputs": []
    }
  ]
}